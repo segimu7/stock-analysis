{
 "cells": [
  {
   "cell_type": "code",
   "execution_count": 6,
   "metadata": {},
   "outputs": [],
   "source": [
    "from pandas_datareader import data\n",
    "import pandas\n",
    "from datetime import time, timedelta, datetime, date\n",
    "from bokeh.plotting import show, figure, output_file\n",
    "\n",
    "start = date.today() - timedelta(days=10)\n",
    "end = date.today()\n",
    "df = data.DataReader(name = \"AMZN\", data_source = \"yahoo\", start = start, end = end)\n"
   ]
  },
  {
   "cell_type": "code",
   "execution_count": 10,
   "metadata": {},
   "outputs": [],
   "source": [
    "def inc_dec(c, o):\n",
    "    if c > o:\n",
    "        value = \"Increase\"\n",
    "    elif c < o:\n",
    "        value =\"Decrease\"\n",
    "    else:\n",
    "        value = \"Equal\"\n",
    "    return value\n",
    "df[\"Status\"] = [ inc_dec(c, o) for c, o in zip(df.Close,df.Open)]\n",
    "df[\"Middle\"] = (df.Open + df.Close)/2\n",
    "df[\"Height\"] = abs(df.Close - df.Open)\n"
   ]
  },
  {
   "cell_type": "code",
   "execution_count": 14,
   "metadata": {},
   "outputs": [
    {
     "output_type": "stream",
     "name": "stderr",
     "text": "BokehUserWarning: ColumnDataSource's columns must be of the same length. Current lengths: ('height', 0), ('x', 4), ('y', 4)\n"
    }
   ],
   "source": [
    "p = figure(x_axis_type = 'datetime', width = 1000, height = 300)\n",
    "p.title.text = \"Candlestick Chart\"\n",
    "\n",
    "hours = 60*60*1000\n",
    "\n",
    "p.rect(df.index[df.Status == \"Increase\"], df.Middle[df.Status == \"Increase\"],\n",
    " hours, df.Height[df.Status == \"Increase\"], fill_color = \"green\", line_color = \"black\")\n",
    "\n",
    "p.rect(df.index[df.Status == \"Decrease\"], df.Middle[df.Status == \"Decrease\"],\n",
    " hours, df.Height[df.Status == \"decrease\"], fill_color = \"red\", line_color = \"black\")\n",
    "\n",
    "output_file(\"cs.html\")\n",
    "show(p)"
   ]
  },
  {
   "cell_type": "code",
   "execution_count": null,
   "metadata": {},
   "outputs": [],
   "source": []
  }
 ],
 "metadata": {
  "language_info": {
   "codemirror_mode": {
    "name": "ipython",
    "version": 3
   },
   "file_extension": ".py",
   "mimetype": "text/x-python",
   "name": "python",
   "nbconvert_exporter": "python",
   "pygments_lexer": "ipython3",
   "version": "3.8.2-final"
  },
  "orig_nbformat": 2,
  "kernelspec": {
   "name": "python38232bitd8e8a62f299d4d97af03a8eadfa9d08d",
   "display_name": "Python 3.8.2 32-bit"
  }
 },
 "nbformat": 4,
 "nbformat_minor": 2
}